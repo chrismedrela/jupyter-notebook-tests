{
 "cells": [
  {
   "cell_type": "markdown",
   "metadata": {},
   "source": [
    "# Python 3\n",
    "\n",
    "Python 3 should be preinstalled in Linux.\n",
    "\n",
    "Install Python 3 on Windows from https://www.python.org/downloads/\n",
    "\n",
    "Make sure it works in command line:\n",
    "\n",
    "    python3"
   ]
  },
  {
   "cell_type": "markdown",
   "metadata": {},
   "source": [
    "    \n",
    "# Text editor\n",
    "\n",
    "To edit Robot and Python files we need an IDE or at least a text editor. If you don't have any preferences, I recommend [Visual Studio Code](https://code.visualstudio.com/) with the following plugins installed:\n",
    "\n",
    "- [Python](https://marketplace.visualstudio.com/items?itemName=donjayamanne.python)\n",
    "- [robot framework language](https://marketplace.visualstudio.com/items?itemName=keith.robotframework)"
   ]
  },
  {
   "cell_type": "markdown",
   "metadata": {},
   "source": [
    "# Libraries (global installation)\n",
    "\n",
    "You can install libraries globally or in an isolated environment called \"virtualenv\". Skip this chapter if you use virtualenv.\n",
    "\n",
    "Run in command line:\n",
    "\n",
    "    pip3 install ipython jupyter robotframework robotframework-selenium2library\n",
    "    \n",
    "Prepend `sudo` on Linux if necessary."
   ]
  },
  {
   "cell_type": "markdown",
   "metadata": {
    "collapsed": true
   },
   "source": [
    "# Libraries (virtualenv)\n",
    "\n",
    "Skip this chapter if you installed libraries globally.\n",
    "\n",
    "1.  Create a virtualenv in command line:\n",
    "\n",
    "    ```bash\n",
    "    virtualenv venv -p python3.5\n",
    "    ```\n",
    "\n",
    "1.  Check if `venv` directory was created.\n",
    "\n",
    "1.  Activate the virtualenv, so that all `pip` commands alters the virtualenv, not the global Python installation:\n",
    "\n",
    "    ```bash\n",
    "    source ./venv/bin/activate\n",
    "    ```\n",
    "        \n",
    "1.  Install libraries\n",
    "    \n",
    "    ```bash\n",
    "    pip install ipython jupyter robotframework robotframework-selenium2library\n",
    "    ```\n",
    "        \n",
    "1.  Make sure Python paths are set correctly:\n",
    "\n",
    "    ```bash\n",
    "    type python\n",
    "    ```\n",
    "    \n",
    "    If you created your virtualenv in `/home/chris/venv`, the expected output is\n",
    "    \n",
    "        python is /home/chris/venv/bin/python\n",
    "    \n",
    "1.  Check also `ipython`:\n",
    "    \n",
    "    ```bash\n",
    "    type ipython\n",
    "    ```\n",
    "    \n",
    "    The expected output is:\n",
    "    \n",
    "        ipython is /home/chris/venv/bin/ipython\n",
    "        \n",
    "1.  Make sure Python paths are set correctly:\n",
    "\n",
    "    ```bash\n",
    "    python -c \"import sys; print(sys.path)\"\n",
    "    ipython -c \"import sys; print(sys.path)\"\n",
    "    ```\n",
    "        \n",
    "    Both commands should print a list of paths.\n",
    "    Most of them should point to your virtualenv.\n",
    "    An example correct output (the virtualenv is in `/home/chris/venv/`):\n",
    "    \n",
    "        ['',\n",
    "         '/home/chris/venv/lib/python35.zip',\n",
    "         '/home/chris/venv/lib/python3.5',\n",
    "         '/home/chris/venv/lib/python3.5/plat-x86_64-linux-gnu',\n",
    "         '/home/chris/venv/lib/python3.5/lib-dynload',\n",
    "         '/usr/lib/python3.5',\n",
    "         '/usr/lib/python3.5/plat-x86_64-linux-gnu',\n",
    "         '/home/chris/venv/lib/python3.5/site-packages',\n",
    "         '/home/chris/venv/lib/python3.5/site-packages/IPython/extensions',\n",
    "         '/home/chris/.ipython']\n",
    "    "
   ]
  },
  {
   "attachments": {},
   "cell_type": "markdown",
   "metadata": {},
   "source": [
    "# Verifing Jupyter Installation\n",
    "\n",
    "1.  Run:\n",
    "\n",
    "    ```bash\n",
    "    jupyter notebook\n",
    "    ```\n",
    "\n",
    "1.  Make sure you can see a new tab in your browser:\n",
    "\n",
    "    ![](https://blog.keras.io/img/jupyter-aws/dashboard.png)\n",
    "\n",
    "1.  Make sure there is \"Python 3\" option when you click \"New\" on the right side."
   ]
  },
  {
   "cell_type": "markdown",
   "metadata": {
    "collapsed": true
   },
   "source": [
    "# Jupyter Notebook & virtualenv configurations\n",
    "\n",
    "Activate your virtualenv:\n",
    "\n",
    "```bash\n",
    "source ./venv/bin/activate\n",
    "```\n",
    "\n",
    "Install the kernel:\n",
    "\n",
    "    ipython kernel install --name \"my-virtualenv\" --user\n",
    "    \n",
    "Removing the kernel:\n",
    "    \n",
    "    rm -r ~/.local/share/jupyter/kernels/python-szczecin2017"
   ]
  }
 ],
 "metadata": {
  "kernelspec": {
   "display_name": "python-szczecin2017",
   "language": "python",
   "name": "python-szczecin2017"
  },
  "language_info": {
   "codemirror_mode": {
    "name": "ipython",
    "version": 3
   },
   "file_extension": ".py",
   "mimetype": "text/x-python",
   "name": "python",
   "nbconvert_exporter": "python",
   "pygments_lexer": "ipython3",
   "version": "3.5.2+"
  }
 },
 "nbformat": 4,
 "nbformat_minor": 2
}
